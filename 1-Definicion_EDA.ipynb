{
 "cells": [
  {
   "cell_type": "code",
   "execution_count": 28,
   "metadata": {},
   "outputs": [],
   "source": [
    "import pandas as pd \n",
    "import io\n"
   ]
  },
  {
   "cell_type": "markdown",
   "metadata": {},
   "source": [
    "# EMERGENCIA HABITACIONAL EN VALENCIA\n"
   ]
  },
  {
   "cell_type": "markdown",
   "metadata": {},
   "source": [
    "***"
   ]
  },
  {
   "cell_type": "markdown",
   "metadata": {},
   "source": [
    "### TEMA"
   ]
  },
  {
   "cell_type": "markdown",
   "metadata": {},
   "source": [
    "![EDA.png](./img/portada_presentacion.jpg)"
   ]
  },
  {
   "cell_type": "markdown",
   "metadata": {},
   "source": [
    "Se abordará la crisis habitacional que afecta a la comunidad valenciana desde diferentes flancos."
   ]
  },
  {
   "cell_type": "markdown",
   "metadata": {},
   "source": [
    "### HIPÓTESIS"
   ]
  },
  {
   "cell_type": "markdown",
   "metadata": {},
   "source": [
    "La dificultad para alquiler un piso en valencia está relacionada con:\n",
    "- La disminucion de la oferta de pisos en alquiler,\n",
    "- El aumento de la demanda por los saldos migratorios en la comunidad valenciana,\n",
    "- Tasas hipotecarias prohibitivas para acceder a la vivienda propia\n",
    "- Aumento de los valores de alquiler \n",
    "\n",
    "\n"
   ]
  },
  {
   "cell_type": "markdown",
   "metadata": {},
   "source": [
    "## OBTENCIÓN DE LOS DATOS"
   ]
  },
  {
   "cell_type": "markdown",
   "metadata": {},
   "source": [
    "### DATASETS Y FUENTES ALTERNATIVAS DE DATOS"
   ]
  },
  {
   "cell_type": "markdown",
   "metadata": {},
   "source": [
    "[REPORTE SALA DE PRENSA IDEALISTA ](Https://www.idealista.com/sala-de-prensa/informes-precio-vivienda/alquiler/comunitat-valenciana/report/) <br>\n",
    "\n",
    "[NOTA DE PRENSA INE ](https://ine.es/prensa/cp_e2022_p.pdf) <br>\n",
    "\n",
    "[EUROPA PRESS ](https://www.epdata.es/datos/poblacion-inmigrantes-emigrantes-otros-datos-habitantes-cada-comunidad-autonoma/2/comunidad-valenciana/299)<br>\n",
    "\n",
    "[EVOLUCUIN EURIBOR ](https://www.epdata.es/variacion-mensual-euribor-ultimos-24-meses/0ac73426-79a0-40c1-873f-44befbd9a576)\n",
    "\n",
    "También incluye el origen de estos datos y su fuente."
   ]
  },
  {
   "cell_type": "code",
   "execution_count": null,
   "metadata": {},
   "outputs": [],
   "source": [
    "# describe la fuente de tus datos e incluye los links en Markdown"
   ]
  },
  {
   "cell_type": "markdown",
   "metadata": {},
   "source": [
    "Muestra mediante un head() los principales datasets con los que vas a trabajar"
   ]
  },
  {
   "cell_type": "code",
   "execution_count": 16,
   "metadata": {},
   "outputs": [
    {
     "data": {
      "text/html": [
       "<div>\n",
       "<style scoped>\n",
       "    .dataframe tbody tr th:only-of-type {\n",
       "        vertical-align: middle;\n",
       "    }\n",
       "\n",
       "    .dataframe tbody tr th {\n",
       "        vertical-align: top;\n",
       "    }\n",
       "\n",
       "    .dataframe thead th {\n",
       "        text-align: right;\n",
       "    }\n",
       "</style>\n",
       "<table border=\"1\" class=\"dataframe\">\n",
       "  <thead>\n",
       "    <tr style=\"text-align: right;\">\n",
       "      <th></th>\n",
       "      <th>Total Nacional</th>\n",
       "      <th>Comunidades y Ciudades Autónomas</th>\n",
       "      <th>Titular de la vivienda</th>\n",
       "      <th>Periodo</th>\n",
       "      <th>Total</th>\n",
       "    </tr>\n",
       "  </thead>\n",
       "  <tbody>\n",
       "    <tr>\n",
       "      <th>0</th>\n",
       "      <td>Total</td>\n",
       "      <td>10 Comunitat Valenciana</td>\n",
       "      <td>Persona física</td>\n",
       "      <td>2022T2</td>\n",
       "      <td>817.0</td>\n",
       "    </tr>\n",
       "    <tr>\n",
       "      <th>1</th>\n",
       "      <td>Total</td>\n",
       "      <td>10 Comunitat Valenciana</td>\n",
       "      <td>Persona física</td>\n",
       "      <td>2022T1</td>\n",
       "      <td>747.0</td>\n",
       "    </tr>\n",
       "    <tr>\n",
       "      <th>2</th>\n",
       "      <td>Total</td>\n",
       "      <td>10 Comunitat Valenciana</td>\n",
       "      <td>Persona física</td>\n",
       "      <td>2021T4</td>\n",
       "      <td>793.0</td>\n",
       "    </tr>\n",
       "    <tr>\n",
       "      <th>3</th>\n",
       "      <td>Total</td>\n",
       "      <td>10 Comunitat Valenciana</td>\n",
       "      <td>Persona física</td>\n",
       "      <td>2021T3</td>\n",
       "      <td>590.0</td>\n",
       "    </tr>\n",
       "    <tr>\n",
       "      <th>4</th>\n",
       "      <td>Total</td>\n",
       "      <td>10 Comunitat Valenciana</td>\n",
       "      <td>Persona física</td>\n",
       "      <td>2021T2</td>\n",
       "      <td>762.0</td>\n",
       "    </tr>\n",
       "  </tbody>\n",
       "</table>\n",
       "</div>"
      ],
      "text/plain": [
       "  Total Nacional Comunidades y Ciudades Autónomas Titular de la vivienda  \\\n",
       "0          Total          10 Comunitat Valenciana         Persona física   \n",
       "1          Total          10 Comunitat Valenciana         Persona física   \n",
       "2          Total          10 Comunitat Valenciana         Persona física   \n",
       "3          Total          10 Comunitat Valenciana         Persona física   \n",
       "4          Total          10 Comunitat Valenciana         Persona física   \n",
       "\n",
       "  Periodo  Total  \n",
       "0  2022T2  817.0  \n",
       "1  2022T1  747.0  \n",
       "2  2021T4  793.0  \n",
       "3  2021T3  590.0  \n",
       "4  2021T2  762.0  "
      ]
     },
     "execution_count": 16,
     "metadata": {},
     "output_type": "execute_result"
    }
   ],
   "source": [
    "ejecuciones_hipotecarias = pd.read_csv(io.open(\"./raw/ejecuciones_hipotecarias_comunidad_valenciana.csv\", encoding='latin-1'), sep=\"\\t\")\n",
    "ejecuciones_hipotecarias.head()"
   ]
  },
  {
   "cell_type": "code",
   "execution_count": 25,
   "metadata": {},
   "outputs": [
    {
     "data": {
      "text/html": [
       "<div>\n",
       "<style scoped>\n",
       "    .dataframe tbody tr th:only-of-type {\n",
       "        vertical-align: middle;\n",
       "    }\n",
       "\n",
       "    .dataframe tbody tr th {\n",
       "        vertical-align: top;\n",
       "    }\n",
       "\n",
       "    .dataframe thead th {\n",
       "        text-align: right;\n",
       "    }\n",
       "</style>\n",
       "<table border=\"1\" class=\"dataframe\">\n",
       "  <thead>\n",
       "    <tr style=\"text-align: right;\">\n",
       "      <th></th>\n",
       "      <th>Tipo de interés</th>\n",
       "      <th>Naturaleza de la finca</th>\n",
       "      <th>Periodo</th>\n",
       "      <th>Total</th>\n",
       "    </tr>\n",
       "  </thead>\n",
       "  <tbody>\n",
       "    <tr>\n",
       "      <th>0</th>\n",
       "      <td>Fijo</td>\n",
       "      <td>Viviendas</td>\n",
       "      <td>2022M07</td>\n",
       "      <td>75,4</td>\n",
       "    </tr>\n",
       "    <tr>\n",
       "      <th>1</th>\n",
       "      <td>Fijo</td>\n",
       "      <td>Viviendas</td>\n",
       "      <td>2022M06</td>\n",
       "      <td>73,0</td>\n",
       "    </tr>\n",
       "    <tr>\n",
       "      <th>2</th>\n",
       "      <td>Fijo</td>\n",
       "      <td>Viviendas</td>\n",
       "      <td>2022M05</td>\n",
       "      <td>72,8</td>\n",
       "    </tr>\n",
       "    <tr>\n",
       "      <th>3</th>\n",
       "      <td>Fijo</td>\n",
       "      <td>Viviendas</td>\n",
       "      <td>2022M04</td>\n",
       "      <td>75,3</td>\n",
       "    </tr>\n",
       "    <tr>\n",
       "      <th>4</th>\n",
       "      <td>Fijo</td>\n",
       "      <td>Viviendas</td>\n",
       "      <td>2022M03</td>\n",
       "      <td>72,7</td>\n",
       "    </tr>\n",
       "  </tbody>\n",
       "</table>\n",
       "</div>"
      ],
      "text/plain": [
       "  Tipo de interés Naturaleza de la finca  Periodo Total\n",
       "0            Fijo              Viviendas  2022M07  75,4\n",
       "1            Fijo              Viviendas  2022M06  73,0\n",
       "2            Fijo              Viviendas  2022M05  72,8\n",
       "3            Fijo              Viviendas  2022M04  75,3\n",
       "4            Fijo              Viviendas  2022M03  72,7"
      ]
     },
     "execution_count": 25,
     "metadata": {},
     "output_type": "execute_result"
    }
   ],
   "source": [
    "tipos_interes = pd.read_csv(io.open(\"./raw/interes fijo vs variable.csv\", encoding='latin-1'), sep=\"\\t\")\n",
    "tipos_interes.head()"
   ]
  },
  {
   "cell_type": "code",
   "execution_count": 17,
   "metadata": {},
   "outputs": [
    {
     "data": {
      "text/html": [
       "<div>\n",
       "<style scoped>\n",
       "    .dataframe tbody tr th:only-of-type {\n",
       "        vertical-align: middle;\n",
       "    }\n",
       "\n",
       "    .dataframe tbody tr th {\n",
       "        vertical-align: top;\n",
       "    }\n",
       "\n",
       "    .dataframe thead th {\n",
       "        text-align: right;\n",
       "    }\n",
       "</style>\n",
       "<table border=\"1\" class=\"dataframe\">\n",
       "  <thead>\n",
       "    <tr style=\"text-align: right;\">\n",
       "      <th></th>\n",
       "      <th>Total Nacional</th>\n",
       "      <th>Comunidades y Ciudades Autónomas</th>\n",
       "      <th>General, vivienda nueva y de segunda mano</th>\n",
       "      <th>Índices y tasas</th>\n",
       "      <th>Periodo</th>\n",
       "      <th>Total</th>\n",
       "    </tr>\n",
       "  </thead>\n",
       "  <tbody>\n",
       "    <tr>\n",
       "      <th>0</th>\n",
       "      <td>Nacional</td>\n",
       "      <td>09 Cataluña</td>\n",
       "      <td>Vivienda segunda mano</td>\n",
       "      <td>Variación anual</td>\n",
       "      <td>2022T2</td>\n",
       "      <td>7,2</td>\n",
       "    </tr>\n",
       "    <tr>\n",
       "      <th>1</th>\n",
       "      <td>Nacional</td>\n",
       "      <td>09 Cataluña</td>\n",
       "      <td>Vivienda segunda mano</td>\n",
       "      <td>Variación anual</td>\n",
       "      <td>2022T1</td>\n",
       "      <td>7,5</td>\n",
       "    </tr>\n",
       "    <tr>\n",
       "      <th>2</th>\n",
       "      <td>Nacional</td>\n",
       "      <td>09 Cataluña</td>\n",
       "      <td>Vivienda segunda mano</td>\n",
       "      <td>Variación anual</td>\n",
       "      <td>2021T4</td>\n",
       "      <td>6,3</td>\n",
       "    </tr>\n",
       "    <tr>\n",
       "      <th>3</th>\n",
       "      <td>Nacional</td>\n",
       "      <td>09 Cataluña</td>\n",
       "      <td>Vivienda segunda mano</td>\n",
       "      <td>Variación anual</td>\n",
       "      <td>2021T3</td>\n",
       "      <td>3,5</td>\n",
       "    </tr>\n",
       "    <tr>\n",
       "      <th>4</th>\n",
       "      <td>Nacional</td>\n",
       "      <td>09 Cataluña</td>\n",
       "      <td>Vivienda segunda mano</td>\n",
       "      <td>Variación anual</td>\n",
       "      <td>2021T2</td>\n",
       "      <td>2,9</td>\n",
       "    </tr>\n",
       "  </tbody>\n",
       "</table>\n",
       "</div>"
      ],
      "text/plain": [
       "  Total Nacional Comunidades y Ciudades Autónomas  \\\n",
       "0       Nacional                      09 Cataluña   \n",
       "1       Nacional                      09 Cataluña   \n",
       "2       Nacional                      09 Cataluña   \n",
       "3       Nacional                      09 Cataluña   \n",
       "4       Nacional                      09 Cataluña   \n",
       "\n",
       "  General, vivienda nueva y de segunda mano  Índices y tasas Periodo Total  \n",
       "0                     Vivienda segunda mano  Variación anual  2022T2   7,2  \n",
       "1                     Vivienda segunda mano  Variación anual  2022T1   7,5  \n",
       "2                     Vivienda segunda mano  Variación anual  2021T4   6,3  \n",
       "3                     Vivienda segunda mano  Variación anual  2021T3   3,5  \n",
       "4                     Vivienda segunda mano  Variación anual  2021T2   2,9  "
      ]
     },
     "execution_count": 17,
     "metadata": {},
     "output_type": "execute_result"
    }
   ],
   "source": [
    "IPC_Vivienda = pd.read_csv(io.open(\"./raw/Índice de Precios de Vivienda CV MAD CAT.csv\", encoding='latin-1'), sep=\"\\t\")\n",
    "IPC_Vivienda.head()"
   ]
  },
  {
   "cell_type": "code",
   "execution_count": 18,
   "metadata": {},
   "outputs": [
    {
     "data": {
      "text/html": [
       "<div>\n",
       "<style scoped>\n",
       "    .dataframe tbody tr th:only-of-type {\n",
       "        vertical-align: middle;\n",
       "    }\n",
       "\n",
       "    .dataframe tbody tr th {\n",
       "        vertical-align: top;\n",
       "    }\n",
       "\n",
       "    .dataframe thead th {\n",
       "        text-align: right;\n",
       "    }\n",
       "</style>\n",
       "<table border=\"1\" class=\"dataframe\">\n",
       "  <thead>\n",
       "    <tr style=\"text-align: right;\">\n",
       "      <th></th>\n",
       "      <th>Comunidades y ciudades autónomas</th>\n",
       "      <th>Sexo</th>\n",
       "      <th>Edad</th>\n",
       "      <th>Periodo</th>\n",
       "      <th>Total</th>\n",
       "    </tr>\n",
       "  </thead>\n",
       "  <tbody>\n",
       "    <tr>\n",
       "      <th>0</th>\n",
       "      <td>01 Andalucía</td>\n",
       "      <td>Ambos sexos</td>\n",
       "      <td>Total</td>\n",
       "      <td>2021S2</td>\n",
       "      <td>284.000</td>\n",
       "    </tr>\n",
       "    <tr>\n",
       "      <th>1</th>\n",
       "      <td>01 Andalucía</td>\n",
       "      <td>Ambos sexos</td>\n",
       "      <td>Total</td>\n",
       "      <td>2021S1</td>\n",
       "      <td>4.365</td>\n",
       "    </tr>\n",
       "    <tr>\n",
       "      <th>2</th>\n",
       "      <td>01 Andalucía</td>\n",
       "      <td>Ambos sexos</td>\n",
       "      <td>Total</td>\n",
       "      <td>2020S2</td>\n",
       "      <td>3.418</td>\n",
       "    </tr>\n",
       "    <tr>\n",
       "      <th>3</th>\n",
       "      <td>01 Andalucía</td>\n",
       "      <td>Ambos sexos</td>\n",
       "      <td>Total</td>\n",
       "      <td>2020S1</td>\n",
       "      <td>691.000</td>\n",
       "    </tr>\n",
       "    <tr>\n",
       "      <th>4</th>\n",
       "      <td>01 Andalucía</td>\n",
       "      <td>Ambos sexos</td>\n",
       "      <td>Total</td>\n",
       "      <td>2019S2</td>\n",
       "      <td>-1.356</td>\n",
       "    </tr>\n",
       "  </tbody>\n",
       "</table>\n",
       "</div>"
      ],
      "text/plain": [
       "  Comunidades y ciudades autónomas         Sexo   Edad Periodo    Total\n",
       "0                     01 Andalucía  Ambos sexos  Total  2021S2  284.000\n",
       "1                     01 Andalucía  Ambos sexos  Total  2021S1    4.365\n",
       "2                     01 Andalucía  Ambos sexos  Total  2020S2    3.418\n",
       "3                     01 Andalucía  Ambos sexos  Total  2020S1  691.000\n",
       "4                     01 Andalucía  Ambos sexos  Total  2019S2   -1.356"
      ]
     },
     "execution_count": 18,
     "metadata": {},
     "output_type": "execute_result"
    }
   ],
   "source": [
    "saldo_migratorio = pd.read_csv(io.open(\"./raw/saldo migratorio interno.csv\", encoding='latin-1'), sep=\"\\t\")\n",
    "saldo_migratorio.head()"
   ]
  },
  {
   "cell_type": "code",
   "execution_count": 24,
   "metadata": {},
   "outputs": [
    {
     "data": {
      "text/html": [
       "<div>\n",
       "<style scoped>\n",
       "    .dataframe tbody tr th:only-of-type {\n",
       "        vertical-align: middle;\n",
       "    }\n",
       "\n",
       "    .dataframe tbody tr th {\n",
       "        vertical-align: top;\n",
       "    }\n",
       "\n",
       "    .dataframe thead th {\n",
       "        text-align: right;\n",
       "    }\n",
       "</style>\n",
       "<table border=\"1\" class=\"dataframe\">\n",
       "  <thead>\n",
       "    <tr style=\"text-align: right;\">\n",
       "      <th></th>\n",
       "      <th>ï»¿Provincias</th>\n",
       "      <th>Sexo</th>\n",
       "      <th>Nacionalidad</th>\n",
       "      <th>Grupo quinquenal de edad</th>\n",
       "      <th>Periodo</th>\n",
       "      <th>Total</th>\n",
       "    </tr>\n",
       "  </thead>\n",
       "  <tbody>\n",
       "    <tr>\n",
       "      <th>0</th>\n",
       "      <td>Total Nacional</td>\n",
       "      <td>Ambos sexos</td>\n",
       "      <td>Total</td>\n",
       "      <td>Total</td>\n",
       "      <td>2021</td>\n",
       "      <td>148.677</td>\n",
       "    </tr>\n",
       "    <tr>\n",
       "      <th>1</th>\n",
       "      <td>Total Nacional</td>\n",
       "      <td>Ambos sexos</td>\n",
       "      <td>Total</td>\n",
       "      <td>Total</td>\n",
       "      <td>2020</td>\n",
       "      <td>219.357</td>\n",
       "    </tr>\n",
       "    <tr>\n",
       "      <th>2</th>\n",
       "      <td>Total Nacional</td>\n",
       "      <td>Ambos sexos</td>\n",
       "      <td>Total</td>\n",
       "      <td>Total</td>\n",
       "      <td>2019</td>\n",
       "      <td>454.232</td>\n",
       "    </tr>\n",
       "    <tr>\n",
       "      <th>3</th>\n",
       "      <td>Total Nacional</td>\n",
       "      <td>Ambos sexos</td>\n",
       "      <td>Total</td>\n",
       "      <td>Total</td>\n",
       "      <td>2018</td>\n",
       "      <td>334.158</td>\n",
       "    </tr>\n",
       "    <tr>\n",
       "      <th>4</th>\n",
       "      <td>Total Nacional</td>\n",
       "      <td>Ambos sexos</td>\n",
       "      <td>Total</td>\n",
       "      <td>Total</td>\n",
       "      <td>2017</td>\n",
       "      <td>163.272</td>\n",
       "    </tr>\n",
       "  </tbody>\n",
       "</table>\n",
       "</div>"
      ],
      "text/plain": [
       "    ï»¿Provincias         Sexo Nacionalidad Grupo quinquenal de edad  Periodo  \\\n",
       "0  Total Nacional  Ambos sexos        Total                    Total     2021   \n",
       "1  Total Nacional  Ambos sexos        Total                    Total     2020   \n",
       "2  Total Nacional  Ambos sexos        Total                    Total     2019   \n",
       "3  Total Nacional  Ambos sexos        Total                    Total     2018   \n",
       "4  Total Nacional  Ambos sexos        Total                    Total     2017   \n",
       "\n",
       "     Total  \n",
       "0  148.677  \n",
       "1  219.357  \n",
       "2  454.232  \n",
       "3  334.158  \n",
       "4  163.272  "
      ]
     },
     "execution_count": 24,
     "metadata": {},
     "output_type": "execute_result"
    }
   ],
   "source": [
    "migraciones_exteriores = pd.read_csv(io.open(\"./raw/migraciones exteriores.csv\", encoding='latin-1'), sep=\"\\t\")\n",
    "migraciones_exteriores.head()"
   ]
  },
  {
   "cell_type": "markdown",
   "metadata": {},
   "source": [
    "Trabajando en la extraccion del SOUP"
   ]
  },
  {
   "cell_type": "code",
   "execution_count": null,
   "metadata": {},
   "outputs": [],
   "source": [
    "driver = webdriver.Chrome(ChromeDriverManager().install())\n",
    "\n",
    "url = \"https://www.idealista.com/sala-de-prensa/informes-precio-vivienda/alquiler/comunitat-valenciana/report/\"\n",
    "driver.get(url)\n",
    "\n",
    "Cookies = driver.find_element(by= By.XPATH,value=\"/html/body/div[1]/div/div/div/div/div[2]/button[2]\")\n",
    "Cookies.click()\n",
    "\n",
    "soup = bs(driver.page_source,\"lxml\")\n",
    "\n",
    "soup2 = soup.select(\"td.table__cell\")\n",
    "soup2\n",
    "soup2[0:7]\n",
    "soup2[7:14]\n",
    "soup2[14:21]\n",
    "\n",
    "d = {}\n",
    "for i in range(int(len(soup2)/7)):\n",
    "    d.setdefault(\"Localidad\",  []).append(soup2[i*7-7].get_text())\n",
    "    d.setdefault(\"Precio_(€/m2)\" , []).append(soup2[i*7-6].get_text().split()[0])\n",
    "    d.setdefault(\"Variacion_trimestral(%)\", []).append(eval(soup2[i*7-4].get_text().split()[0] + soup2[i*7-4].get_text().split()[1].replace(\",\", \".\")))\n",
    "    d.setdefault(\"Variacion_anual(%)\",      []).append(eval(soup2[i*7-3].get_text().split()[0] + soup2[i*7-3].get_text().split()[1].replace(\",\", \".\")))\n",
    "    d.setdefault(\"Maximo_historico(€/m2)\",     []).append(soup2[i*7-2].get_text().split()[0])\n",
    "    d.setdefault(\"Variacion_Maximo(%)\",     []).append(eval(soup2[i*7-3].get_text().split()[0] + soup2[i*7-3].get_text().split()[1].replace(\",\", \".\")))\n",
    "    \n",
    "\n",
    "TABLA_PROP_INTERANUAL = pd.DataFrame(d)\n",
    "TABLA_PROP_INTERANUAL"
   ]
  },
  {
   "cell_type": "markdown",
   "metadata": {},
   "source": [
    "[<td class=\"table__cell\" data-sortable=\"Comunitat Valenciana\">Comunitat Valenciana</td>,\n",
    " <td class=\"table__cell\" data-sortable=\"8.93495\">8,9 €/m2</td>,\n",
    " <td class=\"table__cell table__cell--red\" data-sortable=\"-0.702477\">- 0,7 %</td>,\n",
    " <td class=\"table__cell table__cell--green\" data-sortable=\"4.75313\">+ 4,8 %</td>,\n",
    " <td class=\"table__cell table__cell--green\" data-sortable=\"15.849\">+ 15,8 %</td>,\n",
    " <td class=\"table__cell\" data-sortable=\"9.39699\">9,4 €/m2 feb 2006</td>,\n",
    " <td class=\"table__cell table__cell--red\" data-sortable=\"-4.9168936010361\">- 4,9 %</td>]"
   ]
  },
  {
   "cell_type": "markdown",
   "metadata": {},
   "source": [
    "[<td class=\"table__cell\" data-sortable=\"Comunitat Valenciana\">Comunitat Valenciana</td>,\n",
    " <td class=\"table__cell\" data-sortable=\"8.93495\">8,9 €/m2</td>,\n",
    " <td class=\"table__cell table__cell--red\" data-sortable=\"-0.702477\">- 0,7 %</td>,\n",
    " <td class=\"table__cell table__cell--green\" data-sortable=\"4.75313\">+ 4,8 %</td>,\n",
    " <td class=\"table__cell table__cell--green\" data-sortable=\"15.849\">+ 15,8 %</td>,\n",
    " <td class=\"table__cell\" data-sortable=\"9.39699\">9,4 €/m2 feb 2006</td>,\n",
    " <td class=\"table__cell table__cell--red\" data-sortable=\"-4.9168936010361\">- 4,9 %</td>]"
   ]
  }
 ],
 "metadata": {
  "kernelspec": {
   "display_name": "Python 3.9.13 ('core_env')",
   "language": "python",
   "name": "python3"
  },
  "language_info": {
   "codemirror_mode": {
    "name": "ipython",
    "version": 3
   },
   "file_extension": ".py",
   "mimetype": "text/x-python",
   "name": "python",
   "nbconvert_exporter": "python",
   "pygments_lexer": "ipython3",
   "version": "3.9.13"
  },
  "orig_nbformat": 4,
  "vscode": {
   "interpreter": {
    "hash": "ad3f0e2c7718e4f1acbc04e1a2feb2f4e2a33bf8329c425b280b371a0ea16b94"
   }
  }
 },
 "nbformat": 4,
 "nbformat_minor": 2
}
